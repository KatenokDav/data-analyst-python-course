{
 "cells": [
  {
   "cell_type": "code",
   "execution_count": null,
   "metadata": {},
   "outputs": [],
   "source": [
    "# Задание вытащить все вакансии СБЕРа с ХХ (у апи есть ограничение в 2000, подумайте как его обойти)\n",
    "# Вытащите все описания этих вакансий\n",
    "# Создайте аналогичный vacancy DataFrame только добавьте поле skills\n",
    "# Переведите даты публикаций в datetime\n",
    "# Постройте график опубликованных вакансий по датам\n",
    "# Переведите даты в дни недели, и определите день недели, в который больше всего публикуют вакансий\n",
    "# Найдите те вакансии с использованием python, которые вам интересны\n",
    "# Определите по полю skills какие навыки больше всего востребованы для этих вакансий, и\n",
    "# Постройте график наиболее востребованных вакансий"
   ]
  },
  {
   "cell_type": "code",
   "execution_count": 96,
   "metadata": {},
   "outputs": [],
   "source": [
    "import requests\n",
    "import json\n",
    "from tqdm.auto import tqdm\n",
    "from collections import defaultdict\n",
    "import pickle \n",
    "import pandas as pd\n",
    "import numpy as np\n",
    "from datetime import datetime,date\n",
    "import matplotlib.pyplot as plt\n",
    "%matplotlib inline\n",
    "import seaborn as sns"
   ]
  },
  {
   "cell_type": "code",
   "execution_count": 97,
   "metadata": {},
   "outputs": [],
   "source": [
    "sber = '3529'\n",
    "page = 1\n",
    "num_per_page = 100\n",
    "moscow = 113\n",
    "url = f'https://api.hh.ru/vacancies?employer_id={sber}&page={page}&per_page={num_per_page}&area={moscow}'\n",
    "res = requests.get(url)"
   ]
  },
  {
   "cell_type": "code",
   "execution_count": 98,
   "metadata": {},
   "outputs": [],
   "source": [
    "vacancies = res.json()"
   ]
  },
  {
   "cell_type": "code",
   "execution_count": 99,
   "metadata": {},
   "outputs": [
    {
     "data": {
      "application/vnd.jupyter.widget-view+json": {
       "model_id": "f54424897b094556869100378de39935",
       "version_major": 2,
       "version_minor": 0
      },
      "text/plain": [
       "HBox(children=(HTML(value=''), FloatProgress(value=0.0, max=20.0), HTML(value='')))"
      ]
     },
     "metadata": {},
     "output_type": "display_data"
    },
    {
     "name": "stdout",
     "output_type": "stream",
     "text": [
      "\n"
     ]
    }
   ],
   "source": [
    "all_names = []\n",
    "all_dates = []\n",
    "all_skills = []\n",
    "for i in tqdm(range(vacancies.get('pages'))):\n",
    "    url = f'https://api.hh.ru/vacancies?employer_id={sber}&page={i}&per_page={num_per_page}&area={moscow}'\n",
    "    num_pages = vacancies.get('pages')\n",
    "    vacancy_name = [el.get('name') for el in vacancies.get('items')]\n",
    "    vacancy_data = [el.get('published_at') for el in vacancies.get('items')]\n",
    "    vacancy_skills = [el.get('snippet') for el in vacancies.get('items')]\n",
    "    all_names.extend(vacancy_name)\n",
    "    all_dates.extend(vacancy_data)\n",
    "    all_skills.extend(vacancy_skills)"
   ]
  },
  {
   "cell_type": "code",
   "execution_count": 100,
   "metadata": {
    "scrolled": true
   },
   "outputs": [],
   "source": [
    "# Создайте аналогичный vacancy DataFrame только добавьте поле skills\n",
    "vacancy=pd.DataFrame(list(zip(all_names, all_dates,all_skills)),\n",
    "               columns =['Name', 'Date','Skills'])\n",
    "vacancy['Quantity']=1"
   ]
  },
  {
   "cell_type": "code",
   "execution_count": 101,
   "metadata": {
    "scrolled": true
   },
   "outputs": [
    {
     "data": {
      "text/html": [
       "<div>\n",
       "<style scoped>\n",
       "    .dataframe tbody tr th:only-of-type {\n",
       "        vertical-align: middle;\n",
       "    }\n",
       "\n",
       "    .dataframe tbody tr th {\n",
       "        vertical-align: top;\n",
       "    }\n",
       "\n",
       "    .dataframe thead th {\n",
       "        text-align: right;\n",
       "    }\n",
       "</style>\n",
       "<table border=\"1\" class=\"dataframe\">\n",
       "  <thead>\n",
       "    <tr style=\"text-align: right;\">\n",
       "      <th></th>\n",
       "      <th>Name</th>\n",
       "      <th>Date</th>\n",
       "      <th>Skills</th>\n",
       "      <th>Quantity</th>\n",
       "    </tr>\n",
       "  </thead>\n",
       "  <tbody>\n",
       "    <tr>\n",
       "      <th>0</th>\n",
       "      <td>Старший охранник</td>\n",
       "      <td>2021-09-21</td>\n",
       "      <td>Образование не ниже средне-специального. Опыт ...</td>\n",
       "      <td>1</td>\n",
       "    </tr>\n",
       "    <tr>\n",
       "      <th>1</th>\n",
       "      <td>Клиентский менеджер</td>\n",
       "      <td>2021-09-02</td>\n",
       "      <td>Имеешь образование от общего среднего. Умеешь ...</td>\n",
       "      <td>1</td>\n",
       "    </tr>\n",
       "    <tr>\n",
       "      <th>2</th>\n",
       "      <td>Java Разработчик</td>\n",
       "      <td>2021-09-20</td>\n",
       "      <td>Java 8. Spring. Maven. Jenkins. Pipeline. Dock...</td>\n",
       "      <td>1</td>\n",
       "    </tr>\n",
       "    <tr>\n",
       "      <th>3</th>\n",
       "      <td>Клиентский менеджер прямых продаж</td>\n",
       "      <td>2021-08-28</td>\n",
       "      <td>Легко находите общий язык с людьми. Умеете выс...</td>\n",
       "      <td>1</td>\n",
       "    </tr>\n",
       "    <tr>\n",
       "      <th>4</th>\n",
       "      <td>Старший клиентский менеджер</td>\n",
       "      <td>2021-09-03</td>\n",
       "      <td>Специалист со средним профессиональным/неполны...</td>\n",
       "      <td>1</td>\n",
       "    </tr>\n",
       "    <tr>\n",
       "      <th>...</th>\n",
       "      <td>...</td>\n",
       "      <td>...</td>\n",
       "      <td>...</td>\n",
       "      <td>...</td>\n",
       "    </tr>\n",
       "    <tr>\n",
       "      <th>1995</th>\n",
       "      <td>Клиентский менеджер прямых продаж</td>\n",
       "      <td>2021-09-13</td>\n",
       "      <td>Хочешь развивать навыки публичных выступлений....</td>\n",
       "      <td>1</td>\n",
       "    </tr>\n",
       "    <tr>\n",
       "      <th>1996</th>\n",
       "      <td>Старший менеджер по обслуживанию</td>\n",
       "      <td>2021-09-06</td>\n",
       "      <td>Специалист со средним профессиональным/неполны...</td>\n",
       "      <td>1</td>\n",
       "    </tr>\n",
       "    <tr>\n",
       "      <th>1997</th>\n",
       "      <td>Разработчик JavaScript Junior</td>\n",
       "      <td>2021-09-22</td>\n",
       "      <td>Умеешь читать чужой код и имеешь базовые знани...</td>\n",
       "      <td>1</td>\n",
       "    </tr>\n",
       "    <tr>\n",
       "      <th>1998</th>\n",
       "      <td>Менеджер по подключению партнеров к Сбер ID</td>\n",
       "      <td>2021-09-03</td>\n",
       "      <td>Понимать как работает взаимодействие по API. О...</td>\n",
       "      <td>1</td>\n",
       "    </tr>\n",
       "    <tr>\n",
       "      <th>1999</th>\n",
       "      <td>Клиентский менеджер</td>\n",
       "      <td>2021-08-30</td>\n",
       "      <td>Имеешь образование от общего среднего. Умеешь ...</td>\n",
       "      <td>1</td>\n",
       "    </tr>\n",
       "  </tbody>\n",
       "</table>\n",
       "<p>2000 rows × 4 columns</p>\n",
       "</div>"
      ],
      "text/plain": [
       "                                             Name        Date  \\\n",
       "0                                Старший охранник  2021-09-21   \n",
       "1                             Клиентский менеджер  2021-09-02   \n",
       "2                                Java Разработчик  2021-09-20   \n",
       "3               Клиентский менеджер прямых продаж  2021-08-28   \n",
       "4                     Старший клиентский менеджер  2021-09-03   \n",
       "...                                           ...         ...   \n",
       "1995            Клиентский менеджер прямых продаж  2021-09-13   \n",
       "1996             Старший менеджер по обслуживанию  2021-09-06   \n",
       "1997                Разработчик JavaScript Junior  2021-09-22   \n",
       "1998  Менеджер по подключению партнеров к Сбер ID  2021-09-03   \n",
       "1999                          Клиентский менеджер  2021-08-30   \n",
       "\n",
       "                                                 Skills  Quantity  \n",
       "0     Образование не ниже средне-специального. Опыт ...         1  \n",
       "1     Имеешь образование от общего среднего. Умеешь ...         1  \n",
       "2     Java 8. Spring. Maven. Jenkins. Pipeline. Dock...         1  \n",
       "3     Легко находите общий язык с людьми. Умеете выс...         1  \n",
       "4     Специалист со средним профессиональным/неполны...         1  \n",
       "...                                                 ...       ...  \n",
       "1995  Хочешь развивать навыки публичных выступлений....         1  \n",
       "1996  Специалист со средним профессиональным/неполны...         1  \n",
       "1997  Умеешь читать чужой код и имеешь базовые знани...         1  \n",
       "1998  Понимать как работает взаимодействие по API. О...         1  \n",
       "1999  Имеешь образование от общего среднего. Умеешь ...         1  \n",
       "\n",
       "[2000 rows x 4 columns]"
      ]
     },
     "execution_count": 101,
     "metadata": {},
     "output_type": "execute_result"
    }
   ],
   "source": [
    "# Переведите даты публикаций в datetime\n",
    "vacancy['Date'] = pd.to_datetime(vacancy['Date']).dt.date\n",
    "vacancy['Skills'] = pd.DataFrame(all_skills, columns=['requirement'])\n",
    "vacancy"
   ]
  },
  {
   "cell_type": "code",
   "execution_count": 102,
   "metadata": {},
   "outputs": [
    {
     "data": {
      "text/plain": [
       "Text(0, 0.5, 'Количество')"
      ]
     },
     "execution_count": 102,
     "metadata": {},
     "output_type": "execute_result"
    },
    {
     "data": {
      "image/png": "[encoded data removed]",
      "text/plain": [
       "<Figure size 432x288 with 1 Axes>"
      ]
     },
     "metadata": {
      "needs_background": "light"
     },
     "output_type": "display_data"
    }
   ],
   "source": [
    "# Постройте график опубликованных вакансий по датам\n",
    "vacancy_1 = vacancy.groupby(['Date'])['Quantity'].sum()\n",
    "vacancy_1.plot(kind='bar',title='Динамика опубликованных вакансий по датам')\n",
    "plt.xlabel('Дата')\n",
    "plt.ylabel('Количество')"
   ]
  },
  {
   "cell_type": "code",
   "execution_count": 103,
   "metadata": {
    "scrolled": true
   },
   "outputs": [
    {
     "data": {
      "text/plain": [
       "day_of_week\n",
       "Friday       300\n",
       "Monday       460\n",
       "Saturday     140\n",
       "Sunday        60\n",
       "Thursday     360\n",
       "Tuesday      300\n",
       "Wednesday    380\n",
       "Name: Quantity, dtype: int64"
      ]
     },
     "execution_count": 103,
     "metadata": {},
     "output_type": "execute_result"
    }
   ],
   "source": [
    "# Переведите даты в дни недели, и определите день недели, в который больше всего публикуют вакансий\n",
    "vacancy['Date'] = pd.to_datetime(vacancy['Date'])\n",
    "vacancy['day_of_week'] = vacancy['Date'].dt.day_name()\n",
    "vacancy_2 = vacancy.groupby(['day_of_week'])['Quantity'].sum()\n",
    "vacancy_2"
   ]
  },
  {
   "cell_type": "code",
   "execution_count": 105,
   "metadata": {},
   "outputs": [
    {
     "data": {
      "text/html": [
       "<div>\n",
       "<style scoped>\n",
       "    .dataframe tbody tr th:only-of-type {\n",
       "        vertical-align: middle;\n",
       "    }\n",
       "\n",
       "    .dataframe tbody tr th {\n",
       "        vertical-align: top;\n",
       "    }\n",
       "\n",
       "    .dataframe thead th {\n",
       "        text-align: right;\n",
       "    }\n",
       "</style>\n",
       "<table border=\"1\" class=\"dataframe\">\n",
       "  <thead>\n",
       "    <tr style=\"text-align: right;\">\n",
       "      <th></th>\n",
       "      <th>Name</th>\n",
       "      <th>Date</th>\n",
       "      <th>Skills</th>\n",
       "      <th>Quantity</th>\n",
       "      <th>day_of_week</th>\n",
       "    </tr>\n",
       "  </thead>\n",
       "  <tbody>\n",
       "    <tr>\n",
       "      <th>1</th>\n",
       "      <td>Клиентский менеджер</td>\n",
       "      <td>2021-09-02</td>\n",
       "      <td>Имеешь образование от общего среднего. Умеешь ...</td>\n",
       "      <td>1</td>\n",
       "      <td>Thursday</td>\n",
       "    </tr>\n",
       "    <tr>\n",
       "      <th>14</th>\n",
       "      <td>Клиентский менеджер</td>\n",
       "      <td>2021-09-03</td>\n",
       "      <td>Специалист с образованием от общего среднего. ...</td>\n",
       "      <td>1</td>\n",
       "      <td>Friday</td>\n",
       "    </tr>\n",
       "    <tr>\n",
       "      <th>38</th>\n",
       "      <td>Клиентский менеджер</td>\n",
       "      <td>2021-09-22</td>\n",
       "      <td>Специалист с образованием от общего среднего. ...</td>\n",
       "      <td>1</td>\n",
       "      <td>Wednesday</td>\n",
       "    </tr>\n",
       "    <tr>\n",
       "      <th>42</th>\n",
       "      <td>Клиентский менеджер</td>\n",
       "      <td>2021-09-04</td>\n",
       "      <td>Имеешь образование от общего среднего. Умеешь ...</td>\n",
       "      <td>1</td>\n",
       "      <td>Saturday</td>\n",
       "    </tr>\n",
       "    <tr>\n",
       "      <th>44</th>\n",
       "      <td>Клиентский менеджер</td>\n",
       "      <td>2021-09-12</td>\n",
       "      <td>Специалист с образованием от общего среднего. ...</td>\n",
       "      <td>1</td>\n",
       "      <td>Sunday</td>\n",
       "    </tr>\n",
       "    <tr>\n",
       "      <th>...</th>\n",
       "      <td>...</td>\n",
       "      <td>...</td>\n",
       "      <td>...</td>\n",
       "      <td>...</td>\n",
       "      <td>...</td>\n",
       "    </tr>\n",
       "    <tr>\n",
       "      <th>1975</th>\n",
       "      <td>Клиентский менеджер</td>\n",
       "      <td>2021-09-13</td>\n",
       "      <td>Имеешь образование от общего среднего. Умеешь ...</td>\n",
       "      <td>1</td>\n",
       "      <td>Monday</td>\n",
       "    </tr>\n",
       "    <tr>\n",
       "      <th>1976</th>\n",
       "      <td>Клиентский менеджер</td>\n",
       "      <td>2021-09-25</td>\n",
       "      <td>Имеешь образование от общего среднего. Умеешь ...</td>\n",
       "      <td>1</td>\n",
       "      <td>Saturday</td>\n",
       "    </tr>\n",
       "    <tr>\n",
       "      <th>1978</th>\n",
       "      <td>Клиентский менеджер</td>\n",
       "      <td>2021-09-13</td>\n",
       "      <td>Специалист с образованием от общего среднего. ...</td>\n",
       "      <td>1</td>\n",
       "      <td>Monday</td>\n",
       "    </tr>\n",
       "    <tr>\n",
       "      <th>1992</th>\n",
       "      <td>Клиентский менеджер</td>\n",
       "      <td>2021-09-08</td>\n",
       "      <td>Имеешь образование от общего среднего. Умеешь ...</td>\n",
       "      <td>1</td>\n",
       "      <td>Wednesday</td>\n",
       "    </tr>\n",
       "    <tr>\n",
       "      <th>1999</th>\n",
       "      <td>Клиентский менеджер</td>\n",
       "      <td>2021-08-30</td>\n",
       "      <td>Имеешь образование от общего среднего. Умеешь ...</td>\n",
       "      <td>1</td>\n",
       "      <td>Monday</td>\n",
       "    </tr>\n",
       "  </tbody>\n",
       "</table>\n",
       "<p>260 rows × 5 columns</p>\n",
       "</div>"
      ],
      "text/plain": [
       "                     Name       Date  \\\n",
       "1     Клиентский менеджер 2021-09-02   \n",
       "14    Клиентский менеджер 2021-09-03   \n",
       "38    Клиентский менеджер 2021-09-22   \n",
       "42    Клиентский менеджер 2021-09-04   \n",
       "44    Клиентский менеджер 2021-09-12   \n",
       "...                   ...        ...   \n",
       "1975  Клиентский менеджер 2021-09-13   \n",
       "1976  Клиентский менеджер 2021-09-25   \n",
       "1978  Клиентский менеджер 2021-09-13   \n",
       "1992  Клиентский менеджер 2021-09-08   \n",
       "1999  Клиентский менеджер 2021-08-30   \n",
       "\n",
       "                                                 Skills  Quantity day_of_week  \n",
       "1     Имеешь образование от общего среднего. Умеешь ...         1    Thursday  \n",
       "14    Специалист с образованием от общего среднего. ...         1      Friday  \n",
       "38    Специалист с образованием от общего среднего. ...         1   Wednesday  \n",
       "42    Имеешь образование от общего среднего. Умеешь ...         1    Saturday  \n",
       "44    Специалист с образованием от общего среднего. ...         1      Sunday  \n",
       "...                                                 ...       ...         ...  \n",
       "1975  Имеешь образование от общего среднего. Умеешь ...         1      Monday  \n",
       "1976  Имеешь образование от общего среднего. Умеешь ...         1    Saturday  \n",
       "1978  Специалист с образованием от общего среднего. ...         1      Monday  \n",
       "1992  Имеешь образование от общего среднего. Умеешь ...         1   Wednesday  \n",
       "1999  Имеешь образование от общего среднего. Умеешь ...         1      Monday  \n",
       "\n",
       "[260 rows x 5 columns]"
      ]
     },
     "execution_count": 105,
     "metadata": {},
     "output_type": "execute_result"
    }
   ],
   "source": [
    "# Найдите те вакансии с использованием python, которые вам интересны\n",
    "vacancy_like = vacancy.loc[(vacancy.Name.str.contains(r'Клиентский менеджер$'))]\n",
    "vacancy_like"
   ]
  },
  {
   "cell_type": "code",
   "execution_count": 93,
   "metadata": {},
   "outputs": [],
   "source": [
    "# Определите по полю skills какие навыки больше всего востребованы для этих вакансий\n"
   ]
  },
  {
   "cell_type": "code",
   "execution_count": 95,
   "metadata": {},
   "outputs": [
    {
     "data": {
      "text/html": [
       "<div>\n",
       "<style scoped>\n",
       "    .dataframe tbody tr th:only-of-type {\n",
       "        vertical-align: middle;\n",
       "    }\n",
       "\n",
       "    .dataframe tbody tr th {\n",
       "        vertical-align: top;\n",
       "    }\n",
       "\n",
       "    .dataframe thead th {\n",
       "        text-align: right;\n",
       "    }\n",
       "</style>\n",
       "<table border=\"1\" class=\"dataframe\">\n",
       "  <thead>\n",
       "    <tr style=\"text-align: right;\">\n",
       "      <th></th>\n",
       "      <th>Skills</th>\n",
       "      <th>Quantity</th>\n",
       "    </tr>\n",
       "  </thead>\n",
       "  <tbody>\n",
       "    <tr>\n",
       "      <th>0</th>\n",
       "      <td>Имеешь образование от общего среднего. Умеешь ...</td>\n",
       "      <td>120</td>\n",
       "    </tr>\n",
       "    <tr>\n",
       "      <th>1</th>\n",
       "      <td>Специалист с образованием от общего среднего. ...</td>\n",
       "      <td>140</td>\n",
       "    </tr>\n",
       "  </tbody>\n",
       "</table>\n",
       "</div>"
      ],
      "text/plain": [
       "                                              Skills  Quantity\n",
       "0  Имеешь образование от общего среднего. Умеешь ...       120\n",
       "1  Специалист с образованием от общего среднего. ...       140"
      ]
     },
     "execution_count": 95,
     "metadata": {},
     "output_type": "execute_result"
    }
   ],
   "source": [
    "vacancy_like.groupby('Skills').sum().reset_index()"
   ]
  },
  {
   "cell_type": "code",
   "execution_count": 106,
   "metadata": {},
   "outputs": [
    {
     "data": {
      "text/plain": [
       "<AxesSubplot:xlabel='Quantity', ylabel='Name'>"
      ]
     },
     "execution_count": 106,
     "metadata": {},
     "output_type": "execute_result"
    },
    {
     "data": {
      "image/png": "[encoded data removed]",
      "text/plain": [
       "<Figure size 432x288 with 1 Axes>"
      ]
     },
     "metadata": {
      "needs_background": "light"
     },
     "output_type": "display_data"
    }
   ],
   "source": [
    "# Постройте график наиболее востребованных вакансий\n",
    "vacancy_3 = vacancy.groupby('Name').sum().reset_index()\n",
    "vacancy_3 = vacancy_3.sort_values(by=['Quantity'],ascending =[False])\n",
    "vacancy_4=vacancy_3.loc[vacancy_3['Quantity'] >= 21]\n",
    "sns.barplot(data=vacancy_4,x='Quantity',y='Name')"
   ]
  }
 ],
 "metadata": {
  "kernelspec": {
   "display_name": "Python 3",
   "language": "python",
   "name": "python3"
  },
  "language_info": {
   "codemirror_mode": {
    "name": "ipython",
    "version": 3
   },
   "file_extension": ".py",
   "mimetype": "text/x-python",
   "name": "python",
   "nbconvert_exporter": "python",
   "pygments_lexer": "ipython3",
   "version": "3.8.5"
  }
 },
 "nbformat": 4,
 "nbformat_minor": 4
}
